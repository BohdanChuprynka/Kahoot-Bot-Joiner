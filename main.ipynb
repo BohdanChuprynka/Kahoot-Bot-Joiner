{
 "cells": [
  {
   "cell_type": "code",
   "execution_count": 1,
   "metadata": {},
   "outputs": [],
   "source": [
    "# Testing notebook"
   ]
  },
  {
   "cell_type": "code",
   "execution_count": 1,
   "metadata": {},
   "outputs": [
    {
     "name": "stderr",
     "output_type": "stream",
     "text": [
      "/Users/bohdan/Documents/Programming/Projects/VSCode/Other Projects/Kahoot Joiner/.venv/lib/python3.9/site-packages/urllib3/__init__.py:35: NotOpenSSLWarning: urllib3 v2 only supports OpenSSL 1.1.1+, currently the 'ssl' module is compiled with 'LibreSSL 2.8.3'. See: https://github.com/urllib3/urllib3/issues/3020\n",
      "  warnings.warn(\n"
     ]
    }
   ],
   "source": [
    "from selenium import webdriver\n",
    "from selenium.webdriver.common.keys import Keys \n",
    "from selenium.webdriver.common.by import By\n",
    "from selenium.webdriver.chrome.options import Options\n",
    "from selenium.webdriver.support.ui import WebDriverWait\n",
    "from selenium.webdriver.support import expected_conditions as EC\n",
    "from concurrent.futures import ThreadPoolExecutor\n",
    "import threading\n",
    "\n",
    "import time\n",
    "import random\n"
   ]
  },
  {
   "cell_type": "code",
   "execution_count": 12,
   "metadata": {},
   "outputs": [],
   "source": [
    "# Constants\n",
    "KAHOOT_URL = \"https://kahoot.it/\"\n",
    "GAME_CODE = \"1703609\"  # Replace with your game code\n",
    "BASE_NAME = 'my_name'\n",
    "JOIN_COUNT = 20 # Number of times you want to join\n",
    "lock = threading.Lock()\n"
   ]
  },
  {
   "cell_type": "markdown",
   "metadata": {},
   "source": [
    "# Multithreaded script"
   ]
  },
  {
   "cell_type": "code",
   "execution_count": 13,
   "metadata": {},
   "outputs": [],
   "source": [
    "def join_game(driver, game_code):\n",
    "      game_code_input = driver.find_element(by=By.XPATH, value='//*[@id=\"game-input\"]')  # Adjust XPath if needed\n",
    "      game_code_input.send_keys(game_code)\n",
    "      game_code_input.send_keys(Keys.ENTER)\n",
    "\n",
    "def nickname_input(driver, url, game_code, name_suffix):\n",
    "      player_name_input = driver.find_element(by=By.XPATH, value='//*[@id=\"nickname\"]') \n",
    "      player_name_input.send_keys(f\"{BASE_NAME}{name_suffix+1}\")  \n",
    "      player_name_input.send_keys(Keys.ENTER)\n"
   ]
  },
  {
   "cell_type": "code",
   "execution_count": 14,
   "metadata": {},
   "outputs": [
    {
     "name": "stdout",
     "output_type": "stream",
     "text": [
      "For 20 bots, Total time taken: 18.497915983200073 seconds\n"
     ]
    }
   ],
   "source": [
    "# Create a new Chrome session\n",
    "start_time = time.time()\n",
    "chrome_options = Options()\n",
    "chrome_options.add_argument(\"--headless\") # Run without rendering Chrome\n",
    "driver = webdriver.Chrome(options=chrome_options)\n",
    "\n",
    "# Multithreaded execution using ThreadPoolExecutor\n",
    "with ThreadPoolExecutor(max_workers=JOIN_COUNT) as executor:\n",
    "    for i in range(JOIN_COUNT):\n",
    "        driver.execute_script(\"window.open('');\")  # Open a new tab\n",
    "        driver.switch_to.window(driver.window_handles[-1])  # Switch to the latest tab\n",
    "        driver.get(KAHOOT_URL)\n",
    "\n",
    "    for i in range(JOIN_COUNT):\n",
    "        driver.switch_to.window(driver.window_handles[i+1])\n",
    "        executor.submit(join_game, driver, GAME_CODE).result()\n",
    "    for i in range(JOIN_COUNT):\n",
    "        driver.switch_to.window(driver.window_handles[i+1])\n",
    "        executor.submit(nickname_input, driver, KAHOOT_URL, GAME_CODE, i+1).result()\n",
    "\n",
    "end_time = time.time()\n",
    "\n",
    "# Print the total time taken\n",
    "print(f\"For {JOIN_COUNT} bots, Total time taken: {end_time - start_time} seconds\")"
   ]
  },
  {
   "cell_type": "code",
   "execution_count": 15,
   "metadata": {},
   "outputs": [],
   "source": [
    "driver.quit()"
   ]
  },
  {
   "cell_type": "markdown",
   "metadata": {},
   "source": [
    "# Regular script"
   ]
  },
  {
   "cell_type": "code",
   "execution_count": 150,
   "metadata": {},
   "outputs": [],
   "source": [
    "def join_kahoot(driver, url, game_code, name_suffix):\n",
    "    try: \n",
    "      driver.get(url)\n",
    "\n",
    "      # Enter the game code\n",
    "      # game_code_input = driver.find_element(by=By.XPATH, value='//*[@id=\"game-input\"]')  # Adjust XPath if needed\n",
    "      # game_code_input.send_keys(game_code)\n",
    "      # game_code_input.send_keys(Keys.ENTER)\n",
    "      WebDriverWait(driver, 10).until(\n",
    "            EC.presence_of_element_located((By.XPATH, '//*[@id=\"game-input\"]'))\n",
    "        ).send_keys(game_code, Keys.ENTER)\n",
    "      \n",
    "      \n",
    "      # Wait for the nickname input field to be visible and interactable\n",
    "      player_name_input = WebDriverWait(driver, 10).until(\n",
    "          EC.presence_of_element_located((By.XPATH, '//*[@id=\"nickname\"]'))\n",
    "      )\n",
    "      # Increment name with each join\n",
    "      player_name_input.send_keys(f\"{BASE_NAME}{name_suffix+1}\")  \n",
    "      player_name_input.send_keys(Keys.ENTER)\n",
    "\n",
    "      \n",
    "      print(f\"Successfully joined game as {BASE_NAME}{name_suffix+1}\")\n",
    "    except Exception as e:\n",
    "       print(f\"Unexpected error in thread {name_suffix}: {e} :()\")\n"
   ]
  },
  {
   "cell_type": "code",
   "execution_count": 151,
   "metadata": {},
   "outputs": [
    {
     "name": "stdout",
     "output_type": "stream",
     "text": [
      "Successfully joined game as penis2\n",
      "Successfully joined game as penis3\n",
      "Successfully joined game as penis4\n",
      "Successfully joined game as penis5\n",
      "Successfully joined game as penis6\n",
      "Successfully joined game as penis7\n",
      "Successfully joined game as penis8\n",
      "Successfully joined game as penis9\n",
      "Successfully joined game as penis10\n",
      "Successfully joined game as penis11\n",
      "Successfully joined game as penis12\n",
      "Successfully joined game as penis13\n",
      "Successfully joined game as penis14\n",
      "Successfully joined game as penis15\n",
      "Successfully joined game as penis16\n",
      "Successfully joined game as penis17\n",
      "Successfully joined game as penis18\n",
      "Successfully joined game as penis19\n",
      "Successfully joined game as penis20\n",
      "Successfully joined game as penis21\n",
      "For 20 bots, Total time taken: 31.112478017807007 seconds\n",
      "Test completed. Quitted.\n"
     ]
    }
   ],
   "source": [
    "start_time = time.time()\n",
    "# Create a new Chrome session\n",
    "chrome_options = Options()\n",
    "chrome_options.add_argument(\"--headless\") # Run without rendering Chrome\n",
    "\n",
    "driver = webdriver.Chrome(options=chrome_options)\n",
    "\n",
    "for i in range(JOIN_COUNT):\n",
    "    driver.execute_script(\"window.open('');\")  # Open a new tab\n",
    "    driver.switch_to.window(driver.window_handles[-1])  # Switch to the latest tab\n",
    "    join_kahoot(driver, KAHOOT_URL, GAME_CODE, i+1)\n",
    "\n",
    "\n",
    "\n",
    "end_time = time.time()\n",
    "\n",
    "# Print the total time taken\n",
    "print(f\"For {JOIN_COUNT} bots, Total time taken: {end_time - start_time} seconds\")\n",
    "driver.quit()\n",
    "print(\"Test completed. Quitted.\")"
   ]
  }
 ],
 "metadata": {
  "kernelspec": {
   "display_name": ".venv",
   "language": "python",
   "name": "python3"
  },
  "language_info": {
   "codemirror_mode": {
    "name": "ipython",
    "version": 3
   },
   "file_extension": ".py",
   "mimetype": "text/x-python",
   "name": "python",
   "nbconvert_exporter": "python",
   "pygments_lexer": "ipython3",
   "version": "3.9.6"
  }
 },
 "nbformat": 4,
 "nbformat_minor": 2
}
